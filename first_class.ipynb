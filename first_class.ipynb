{
 "cells": [
  {
   "cell_type": "code",
   "execution_count": 19,
   "id": "df07906a",
   "metadata": {},
   "outputs": [],
   "source": [
    "import numpy as np\n",
    "import scipy.linalg as LA \n",
    "import copy\n",
    "#%matplotlib widget\n",
    "import matplotlib.pyplot as plt\n"
   ]
  },
  {
   "cell_type": "markdown",
   "id": "d951dd71",
   "metadata": {},
   "source": [
    "# Hands-on 1:\n",
    "# Basics of Quantum Mechanics, gymnastics with spins and operators \n",
    "\n",
    "Let us review some basic quantum many-body physics, ie. consider systems made by many copies of individual consituentes.  \n",
    "\n",
    "Start with spins $s=\\frac{1}{2}$ (qubits)\n",
    "\n",
    "## Single spin\n",
    "In this specific case the states of a single constituent span a two dimensional complex Hilbert space.\n",
    "\n",
    "We can thus use a vector with two complex components\n",
    "\n",
    "$|\\phi\\rangle = c_0 |0\\rangle + c_1 |1\\rangle$\n"
   ]
  },
  {
   "cell_type": "markdown",
   "id": "6ce765a4",
   "metadata": {},
   "source": [
    "### E1 Random state\n",
    "Write a python code that uses the numpy random generator in order to create a random state of a spin one half. Store it as a column vector."
   ]
  },
  {
   "cell_type": "code",
   "execution_count": 20,
   "id": "a700fd19",
   "metadata": {},
   "outputs": [
    {
     "name": "stdout",
     "output_type": "stream",
     "text": [
      "[[0.64348686+0.34690584j]\n",
      " [0.10593697+0.72948479j]]\n",
      "(2, 1)\n",
      "[[0.03772857+0.15866079j]\n",
      " [0.54955489+0.40732845j]]\n"
     ]
    }
   ],
   "source": [
    "#E1\n",
    "# \n",
    "c_0 =np.random.rand()+1j*np.random.rand()\n",
    "c_1 =np.random.rand()+1j*np.random.rand()\n",
    "\n",
    "phi = np.array([[c_0],[c_1]])\n",
    "print(phi)\n",
    "print(np.shape(phi))\n",
    "\n",
    "#Alternatively \n",
    "phi = np.random.rand(2,1) + 1j * np.random.rand(2,1)\n",
    "print(phi)"
   ]
  },
  {
   "cell_type": "markdown",
   "id": "a27e80e6",
   "metadata": {},
   "source": [
    "### E2 Normalize your state\n",
    "In QM states are usually normalized, normalize the state you have created previously:\n",
    "$\\langle \\phi|\\phi\\rangle =1$\n",
    "\n",
    "(*Hint: use the numpy/scipy linalg norm function*) https://numpy.org/doc/stable/reference/generated/numpy.linalg.norm.html"
   ]
  },
  {
   "cell_type": "code",
   "execution_count": 21,
   "id": "84e1ce73",
   "metadata": {},
   "outputs": [
    {
     "name": "stdout",
     "output_type": "stream",
     "text": [
      "0.7032238121855963\n",
      "0.9999999999999999\n"
     ]
    }
   ],
   "source": [
    "#E2 \n",
    "\n",
    "print(LA.norm(phi))\n",
    "#or: np.linalg.norm(phi)\n",
    "phi = phi/LA.norm(phi)\n",
    "print(LA.norm(phi))"
   ]
  },
  {
   "cell_type": "markdown",
   "id": "1fdcbb72",
   "metadata": {},
   "source": [
    "## Defining operators \n",
    "Once we have a state we can compute expectation values of operators. In QM, typically operators are Hermitian. \n",
    "\n",
    "All Hermitian operators can be written as linear combinations of the basis of Hermitian operators. \n",
    "\n",
    "For a single spin 1/2 there are 4 operators in the basis: \n",
    "\n",
    "$ 1\\equiv \\sigma_0, \\sigma_x \\equiv \\sigma_1, \\sigma_y \\equiv \\sigma_2, \\sigma_z \\equiv \\sigma_3$.\n",
    "\n",
    "They satisfy the algebra\n",
    "$\\sigma_i \\sigma_j = \\delta_{ij}+i \\epsilon_{ijk}\\sigma_k$\n",
    "\n",
    "with $\\epsilon_{ijk}$ the completely antisymmetric tensor with $\\epsilon_{012}=1$\n",
    "\n",
    "(In this notation summation over repeated indices is implied, called Einstein notation)\n",
    "\n"
   ]
  },
  {
   "cell_type": "code",
   "execution_count": 22,
   "id": "a59d711d",
   "metadata": {},
   "outputs": [
    {
     "name": "stdout",
     "output_type": "stream",
     "text": [
      "[[1. 0.]\n",
      " [0. 1.]]\n",
      "[[0. 1.]\n",
      " [1. 0.]]\n",
      "[[ 0.+0.j -0.-1.j]\n",
      " [ 0.+1.j  0.+0.j]]\n",
      "[[ 1.  0.]\n",
      " [ 0. -1.]]\n"
     ]
    }
   ],
   "source": [
    "identity = np.eye(2)\n",
    "sigma_x = np.array([[0.,1.],[1.,0.]])\n",
    "sigma_y = np.array([[0.,-1.j],[1.j,0.]])\n",
    "sigma_z = np.array([[1.,0.],[0.,-1.]])\n",
    "\n",
    "print(identity)\n",
    "print(sigma_x)\n",
    "print(sigma_y)\n",
    "print(sigma_z)\n"
   ]
  },
  {
   "cell_type": "code",
   "execution_count": 23,
   "id": "69e743e5",
   "metadata": {},
   "outputs": [
    {
     "name": "stdout",
     "output_type": "stream",
     "text": [
      "[[ True  True]\n",
      " [ True  True]]\n",
      "True\n",
      "True\n"
     ]
    }
   ],
   "source": [
    "print(np.isclose(sigma_x @ sigma_y, 1j*sigma_z))\n",
    "print(np.allclose(sigma_x @ sigma_y, 1j*sigma_z))\n",
    "print(np.allclose(sigma_x @ sigma_z, -1j*sigma_y))"
   ]
  },
  {
   "cell_type": "markdown",
   "id": "e2835a2d",
   "metadata": {},
   "source": [
    " ### E3 Construct operators from elements of the basis\n",
    " Write an arbitrary operator linear combination of the four above four operators using four random real coefficients\n",
    "\n",
    "\n",
    "$O = c_i \\sigma_i$ (i=0,1,2,3), \n",
    "\n",
    "normalize it in such a way that \n",
    "$c_i c_i=1$\n",
    " "
   ]
  },
  {
   "cell_type": "code",
   "execution_count": 24,
   "id": "7749ce9d",
   "metadata": {},
   "outputs": [
    {
     "name": "stdout",
     "output_type": "stream",
     "text": [
      "1.0\n",
      "[[0.10341814]\n",
      " [0.55105011]\n",
      " [0.05678373]\n",
      " [0.82608963]]\n",
      "[[ 0.92950777+0.j          0.55105011-0.05678373j]\n",
      " [ 0.55105011+0.05678373j -0.72267148+0.j        ]]\n"
     ]
    }
   ],
   "source": [
    "#E3 \n",
    "\n",
    "c = np.random.rand(4,1)\n",
    "c = c/LA.norm(c)\n",
    "print(LA.norm(c))\n",
    "print(c)\n",
    "\n",
    "\n",
    "operator =c[0]*identity + c[1]*sigma_x+c[2]*sigma_y+c[3]*sigma_z\n",
    "print(operator)"
   ]
  },
  {
   "cell_type": "code",
   "execution_count": 25,
   "id": "74d284b9",
   "metadata": {},
   "outputs": [
    {
     "data": {
      "text/plain": [
       "False"
      ]
     },
     "execution_count": 25,
     "metadata": {},
     "output_type": "execute_result"
    }
   ],
   "source": [
    "# For complex coefficients this doesn't work (spoils hermiticity)\n",
    "\n",
    "test_c = np.random.rand(4,1) + 1j* np.random.rand(4,1)\n",
    "test_operator =test_c[0]*identity + test_c[1]*sigma_x+test_c[2]*sigma_y+test_c[3]*sigma_z\n",
    "\n",
    "np.allclose(test_operator, test_operator.conj().T)"
   ]
  },
  {
   "cell_type": "markdown",
   "id": "47ff1af5",
   "metadata": {},
   "source": [
    "### E4 Find the components in a given basis\n",
    "Now from the knowledge of the operator $O$, reconstruct its components in the basis of the above operators. \n",
    "\n",
    "(*Hint: use the fact that Pauli operators are traceless, and they square to the identity*)"
   ]
  },
  {
   "cell_type": "code",
   "execution_count": 26,
   "id": "eb5ad584",
   "metadata": {},
   "outputs": [
    {
     "name": "stdout",
     "output_type": "stream",
     "text": [
      "True\n"
     ]
    },
    {
     "name": "stderr",
     "output_type": "stream",
     "text": [
      "/tmp/ipykernel_28639/225489993.py:2: ComplexWarning: Casting complex values to real discards the imaginary part\n",
      "  d[0] = np.trace(operator)/2\n",
      "/tmp/ipykernel_28639/225489993.py:3: ComplexWarning: Casting complex values to real discards the imaginary part\n",
      "  d[1] = np.trace(operator@sigma_x)/2\n",
      "/tmp/ipykernel_28639/225489993.py:4: ComplexWarning: Casting complex values to real discards the imaginary part\n",
      "  d[2] = np.trace(operator@sigma_y)/2\n",
      "/tmp/ipykernel_28639/225489993.py:5: ComplexWarning: Casting complex values to real discards the imaginary part\n",
      "  d[3] = np.trace(operator@sigma_z)/2\n"
     ]
    }
   ],
   "source": [
    "d =np.zeros([4,1]) #+1j*np.zeros([4,1])\n",
    "d[0] = np.trace(operator)/2\n",
    "d[1] = np.trace(operator@sigma_x)/2\n",
    "d[2] = np.trace(operator@sigma_y)/2\n",
    "d[3] = np.trace(operator@sigma_z)/2\n",
    "\n",
    "print(np.allclose(c,d))"
   ]
  },
  {
   "cell_type": "markdown",
   "id": "de73e8be",
   "metadata": {},
   "source": [
    "### E5 Check Hermiticity of the operator\n",
    "Since we are interested in observable we want the operator to be Hermitian, check whether this is the case"
   ]
  },
  {
   "cell_type": "code",
   "execution_count": 27,
   "id": "623ae4d5",
   "metadata": {},
   "outputs": [
    {
     "data": {
      "text/plain": [
       "True"
      ]
     },
     "execution_count": 27,
     "metadata": {},
     "output_type": "execute_result"
    }
   ],
   "source": [
    "\n",
    "def ishermitian(op):\n",
    "    return np.allclose(op, op.conj().T)\n",
    "\n",
    "ishermitian(operator)"
   ]
  },
  {
   "cell_type": "markdown",
   "id": "bb8fa1e8",
   "metadata": {},
   "source": [
    "### E6 Computing expectation values\n",
    "\n",
    "Given the state $|\\phi \\rangle$ and the operator $O$ defined above,\n",
    " compute the expectation value $\\langle \\phi |O|\\phi \\rangle$, assuming a normalized state"
   ]
  },
  {
   "cell_type": "code",
   "execution_count": 28,
   "id": "baf0cc81",
   "metadata": {},
   "outputs": [
    {
     "name": "stdout",
     "output_type": "stream",
     "text": [
      "[[-0.46007158+0.j]]\n",
      "[[-0.46007158]]\n"
     ]
    }
   ],
   "source": [
    "exp_O = phi.T.conj() @ operator @ phi\n",
    "\n",
    "print(exp_O)\n",
    "\n",
    "print(np.real_if_close(exp_O))"
   ]
  },
  {
   "cell_type": "markdown",
   "id": "7cc7e7b1",
   "metadata": {},
   "source": [
    "### E7 Changing basis to states and operators\n",
    "We can clearly change the basis to operators and states, for example we can re-express the above state and operator in the basis where $\\sigma_x$ is diagonal, and the matrix element of the new operator in the new state should be the same than the old one in the old state."
   ]
  },
  {
   "cell_type": "code",
   "execution_count": 29,
   "id": "f323af6c",
   "metadata": {},
   "outputs": [
    {
     "name": "stdout",
     "output_type": "stream",
     "text": [
      "[ 1. -1.]\n",
      "[[ 0.70710678 -0.70710678]\n",
      " [ 0.70710678  0.70710678]]\n",
      "(2, 2)\n",
      "[[ 1.  0.]\n",
      " [ 0. -1.]]\n",
      "[[-0.46007158+0.j]]\n",
      "[[-0.46007158+0.j]]\n"
     ]
    }
   ],
   "source": [
    "#We know that it should be U_x =np.array([[1,1],[1,-1]])/np.sqrt(2)\n",
    "\n",
    "#Let's find it: compute eigenvalues and eigenvectors of sigma_x, which will provide the basis change\n",
    "\n",
    "vals,vecs = np.linalg.eig(sigma_x)\n",
    "print(vals)\n",
    "print(vecs)\n",
    "\n",
    "U_x = vecs\n",
    "\n",
    "print(np.shape(U_x))\n",
    "print(U_x.T@sigma_x@U_x)\n",
    "phi_x =U_x.T@phi\n",
    "operator_x = U_x.T@operator@U_x\n",
    "\n",
    "print(phi.T.conj()@operator@phi)\n",
    "print(phi_x.T.conj()@operator_x@phi_x)"
   ]
  },
  {
   "cell_type": "markdown",
   "id": "11fd4d62",
   "metadata": {},
   "source": [
    "\n",
    "\n",
    "\n",
    "## Two and more spins\n",
    "\n",
    "Now move on to consider a two-qubit system, and build a random state of two spins built from random states of single spins\n"
   ]
  },
  {
   "cell_type": "markdown",
   "id": "4d242a24",
   "metadata": {},
   "source": [
    "\n",
    "### E8 Build a two-spin WF\n",
    "\n",
    "with $| \\phi_1\\rangle$ is the qubit state defined above, and $| \\phi_2\\rangle$ a new random state,\n",
    "\n",
    "build \n",
    "$|\\phi_1 \\phi_2\\rangle =| \\phi_1\\rangle \\otimes  |\\phi_2\\rangle$\n",
    "\n",
    "*Hint: use the np.kron() function"
   ]
  },
  {
   "cell_type": "code",
   "execution_count": 30,
   "id": "9d62ebff",
   "metadata": {},
   "outputs": [
    {
     "name": "stdout",
     "output_type": "stream",
     "text": [
      "[[-0.09663556+0.17962759j]\n",
      " [ 0.00544844+0.11021909j]\n",
      " [ 0.17494003+0.83747353j]\n",
      " [ 0.31513538+0.33902997j]]\n",
      "(4, 1)\n"
     ]
    },
    {
     "data": {
      "text/plain": [
       "1.0"
      ]
     },
     "execution_count": 30,
     "metadata": {},
     "output_type": "execute_result"
    }
   ],
   "source": [
    "phi_1 = copy.deepcopy(phi)\n",
    "\n",
    "phi_2 = np.random.rand(2,1) + 1j* np.random.rand(2,1) \n",
    "phi_2= phi_2/LA.norm(phi_2)\n",
    "\n",
    "phi_phi=np.kron(phi_1,phi_2)\n",
    "\n",
    "print(phi_phi)\n",
    "print(np.shape(phi_phi))\n",
    "LA.norm(phi_phi)"
   ]
  },
  {
   "cell_type": "markdown",
   "id": "7c0f5763",
   "metadata": {},
   "source": [
    "### Expectation values on more spins\n",
    "\n",
    "Now we can compute the expectation value of different operators, for example we can compute the old operator on the first spin,\n",
    "taking into account our two-body system we should thus consider  $O \\otimes 1$\n",
    "\n",
    "and we should get the same number out as before "
   ]
  },
  {
   "cell_type": "code",
   "execution_count": 31,
   "id": "ee72bca1",
   "metadata": {},
   "outputs": [
    {
     "name": "stdout",
     "output_type": "stream",
     "text": [
      "[[-0.46007158+0.j]]\n",
      "[[-0.46007158+0.j]]\n"
     ]
    }
   ],
   "source": [
    "operator_tensor_identity = np.kron(operator,np.eye(2))\n",
    "print(phi_phi.T.conj()@operator_tensor_identity@phi_phi)\n",
    "print(phi.T.conj()@operator@phi)"
   ]
  },
  {
   "cell_type": "markdown",
   "id": "e2720a2f",
   "metadata": {},
   "source": [
    "But now we can also compute the same operator on the other spin, $1 \\otimes O$"
   ]
  },
  {
   "cell_type": "code",
   "execution_count": 32,
   "id": "28d7e08f",
   "metadata": {},
   "outputs": [
    {
     "data": {
      "text/plain": [
       "array([[0.92576391+5.55111512e-17j]])"
      ]
     },
     "execution_count": 32,
     "metadata": {},
     "output_type": "execute_result"
    }
   ],
   "source": [
    "identity_tensor_operator = np.kron(np.eye(2),operator)\n",
    "phi_phi.T.conj()@identity_tensor_operator@phi_phi"
   ]
  },
  {
   "cell_type": "markdown",
   "id": "e0f58165",
   "metadata": {},
   "source": [
    "Or multi-spin operators $O \\otimes O$ and their combinations"
   ]
  },
  {
   "cell_type": "code",
   "execution_count": 33,
   "id": "c25c628f",
   "metadata": {},
   "outputs": [
    {
     "data": {
      "text/plain": [
       "array([[-0.42591766+2.77555756e-17j]])"
      ]
     },
     "execution_count": 33,
     "metadata": {},
     "output_type": "execute_result"
    }
   ],
   "source": [
    "operator_tensor_operator = np.kron(operator,operator)\n",
    "phi_phi.T.conj()@operator_tensor_operator@phi_phi"
   ]
  },
  {
   "cell_type": "markdown",
   "id": "8fbf0abd",
   "metadata": {},
   "source": [
    "### Ising Hamiltonian \n",
    "\n",
    "Now we can study our first many body system, the Ising model in transverse field.\n",
    "\n",
    " For $N=3$ spins, the Hamiltonian reads\n",
    " \n",
    "$ H = -\\sigma_x^1\\otimes \\sigma_x^2 - \\sigma_x^2\\otimes \\sigma_x^3 -\\sigma_x^3\\otimes \\sigma_x^1+\\lambda \\left(  \\sigma_z^1+  \\sigma_z^2+\\sigma_z^3\\right)$.\n",
    "\n",
    "Build it for several values of $\\lambda$ (e.g. 20 points in the interval $[0,10]$) and plot the ground state energy for every value. "
   ]
  },
  {
   "cell_type": "code",
   "execution_count": 34,
   "id": "c39ab162",
   "metadata": {},
   "outputs": [
    {
     "ename": "ModuleNotFoundError",
     "evalue": "No module named 'ipympl'",
     "output_type": "error",
     "traceback": [
      "\u001b[0;31m---------------------------------------------------------------------------\u001b[0m",
      "\u001b[0;31mModuleNotFoundError\u001b[0m                       Traceback (most recent call last)",
      "Cell \u001b[0;32mIn[34], line 16\u001b[0m\n\u001b[1;32m     13\u001b[0m     eig_H,_ \u001b[38;5;241m=\u001b[39mLA\u001b[38;5;241m.\u001b[39meigh(H)\n\u001b[1;32m     14\u001b[0m     gs_energy\u001b[38;5;241m.\u001b[39mappend(eig_H[\u001b[38;5;241m0\u001b[39m])  \n\u001b[0;32m---> 16\u001b[0m \u001b[43mplt\u001b[49m\u001b[38;5;241;43m.\u001b[39;49m\u001b[43mfigure\u001b[49m\u001b[43m(\u001b[49m\u001b[43m)\u001b[49m\n\u001b[1;32m     17\u001b[0m plt\u001b[38;5;241m.\u001b[39mplot(np\u001b[38;5;241m.\u001b[39mlinspace(\u001b[38;5;241m0\u001b[39m,\u001b[38;5;241m10\u001b[39m,\u001b[38;5;241m20\u001b[39m),gs_energy,\u001b[38;5;124m'\u001b[39m\u001b[38;5;124m.-\u001b[39m\u001b[38;5;124m'\u001b[39m)\n\u001b[1;32m     18\u001b[0m plt\u001b[38;5;241m.\u001b[39mxlabel(\u001b[38;5;124m'\u001b[39m\u001b[38;5;124mlambda\u001b[39m\u001b[38;5;124m'\u001b[39m,fontsize \u001b[38;5;241m=\u001b[39m\u001b[38;5;241m16\u001b[39m)\n",
      "File \u001b[0;32m~/miniforge3/envs/KKT_NN/lib/python3.12/site-packages/matplotlib/pyplot.py:934\u001b[0m, in \u001b[0;36mfigure\u001b[0;34m(num, figsize, dpi, facecolor, edgecolor, frameon, FigureClass, clear, **kwargs)\u001b[0m\n\u001b[1;32m    924\u001b[0m \u001b[38;5;28;01mif\u001b[39;00m \u001b[38;5;28mlen\u001b[39m(allnums) \u001b[38;5;241m==\u001b[39m max_open_warning \u001b[38;5;241m>\u001b[39m\u001b[38;5;241m=\u001b[39m \u001b[38;5;241m1\u001b[39m:\n\u001b[1;32m    925\u001b[0m     _api\u001b[38;5;241m.\u001b[39mwarn_external(\n\u001b[1;32m    926\u001b[0m         \u001b[38;5;124mf\u001b[39m\u001b[38;5;124m\"\u001b[39m\u001b[38;5;124mMore than \u001b[39m\u001b[38;5;132;01m{\u001b[39;00mmax_open_warning\u001b[38;5;132;01m}\u001b[39;00m\u001b[38;5;124m figures have been opened. \u001b[39m\u001b[38;5;124m\"\u001b[39m\n\u001b[1;32m    927\u001b[0m         \u001b[38;5;124mf\u001b[39m\u001b[38;5;124m\"\u001b[39m\u001b[38;5;124mFigures created through the pyplot interface \u001b[39m\u001b[38;5;124m\"\u001b[39m\n\u001b[0;32m   (...)\u001b[0m\n\u001b[1;32m    931\u001b[0m         \u001b[38;5;124mf\u001b[39m\u001b[38;5;124m\"\u001b[39m\u001b[38;5;124mConsider using `matplotlib.pyplot.close()`.\u001b[39m\u001b[38;5;124m\"\u001b[39m,\n\u001b[1;32m    932\u001b[0m         \u001b[38;5;167;01mRuntimeWarning\u001b[39;00m)\n\u001b[0;32m--> 934\u001b[0m manager \u001b[38;5;241m=\u001b[39m \u001b[43mnew_figure_manager\u001b[49m\u001b[43m(\u001b[49m\n\u001b[1;32m    935\u001b[0m \u001b[43m    \u001b[49m\u001b[43mnum\u001b[49m\u001b[43m,\u001b[49m\u001b[43m \u001b[49m\u001b[43mfigsize\u001b[49m\u001b[38;5;241;43m=\u001b[39;49m\u001b[43mfigsize\u001b[49m\u001b[43m,\u001b[49m\u001b[43m \u001b[49m\u001b[43mdpi\u001b[49m\u001b[38;5;241;43m=\u001b[39;49m\u001b[43mdpi\u001b[49m\u001b[43m,\u001b[49m\n\u001b[1;32m    936\u001b[0m \u001b[43m    \u001b[49m\u001b[43mfacecolor\u001b[49m\u001b[38;5;241;43m=\u001b[39;49m\u001b[43mfacecolor\u001b[49m\u001b[43m,\u001b[49m\u001b[43m \u001b[49m\u001b[43medgecolor\u001b[49m\u001b[38;5;241;43m=\u001b[39;49m\u001b[43medgecolor\u001b[49m\u001b[43m,\u001b[49m\u001b[43m \u001b[49m\u001b[43mframeon\u001b[49m\u001b[38;5;241;43m=\u001b[39;49m\u001b[43mframeon\u001b[49m\u001b[43m,\u001b[49m\n\u001b[1;32m    937\u001b[0m \u001b[43m    \u001b[49m\u001b[43mFigureClass\u001b[49m\u001b[38;5;241;43m=\u001b[39;49m\u001b[43mFigureClass\u001b[49m\u001b[43m,\u001b[49m\u001b[43m \u001b[49m\u001b[38;5;241;43m*\u001b[39;49m\u001b[38;5;241;43m*\u001b[39;49m\u001b[43mkwargs\u001b[49m\u001b[43m)\u001b[49m\n\u001b[1;32m    938\u001b[0m fig \u001b[38;5;241m=\u001b[39m manager\u001b[38;5;241m.\u001b[39mcanvas\u001b[38;5;241m.\u001b[39mfigure\n\u001b[1;32m    939\u001b[0m \u001b[38;5;28;01mif\u001b[39;00m fig_label:\n",
      "File \u001b[0;32m~/miniforge3/envs/KKT_NN/lib/python3.12/site-packages/matplotlib/pyplot.py:464\u001b[0m, in \u001b[0;36mnew_figure_manager\u001b[0;34m(*args, **kwargs)\u001b[0m\n\u001b[1;32m    462\u001b[0m \u001b[38;5;28;01mdef\u001b[39;00m \u001b[38;5;21mnew_figure_manager\u001b[39m(\u001b[38;5;241m*\u001b[39margs, \u001b[38;5;241m*\u001b[39m\u001b[38;5;241m*\u001b[39mkwargs):\n\u001b[1;32m    463\u001b[0m \u001b[38;5;250m    \u001b[39m\u001b[38;5;124;03m\"\"\"Create a new figure manager instance.\"\"\"\u001b[39;00m\n\u001b[0;32m--> 464\u001b[0m     \u001b[43m_warn_if_gui_out_of_main_thread\u001b[49m\u001b[43m(\u001b[49m\u001b[43m)\u001b[49m\n\u001b[1;32m    465\u001b[0m     \u001b[38;5;28;01mreturn\u001b[39;00m _get_backend_mod()\u001b[38;5;241m.\u001b[39mnew_figure_manager(\u001b[38;5;241m*\u001b[39margs, \u001b[38;5;241m*\u001b[39m\u001b[38;5;241m*\u001b[39mkwargs)\n",
      "File \u001b[0;32m~/miniforge3/envs/KKT_NN/lib/python3.12/site-packages/matplotlib/pyplot.py:441\u001b[0m, in \u001b[0;36m_warn_if_gui_out_of_main_thread\u001b[0;34m()\u001b[0m\n\u001b[1;32m    439\u001b[0m \u001b[38;5;28;01mdef\u001b[39;00m \u001b[38;5;21m_warn_if_gui_out_of_main_thread\u001b[39m() \u001b[38;5;241m-\u001b[39m\u001b[38;5;241m>\u001b[39m \u001b[38;5;28;01mNone\u001b[39;00m:\n\u001b[1;32m    440\u001b[0m     warn \u001b[38;5;241m=\u001b[39m \u001b[38;5;28;01mFalse\u001b[39;00m\n\u001b[0;32m--> 441\u001b[0m     canvas_class \u001b[38;5;241m=\u001b[39m cast(\u001b[38;5;28mtype\u001b[39m[FigureCanvasBase], \u001b[43m_get_backend_mod\u001b[49m\u001b[43m(\u001b[49m\u001b[43m)\u001b[49m\u001b[38;5;241m.\u001b[39mFigureCanvas)\n\u001b[1;32m    442\u001b[0m     \u001b[38;5;28;01mif\u001b[39;00m canvas_class\u001b[38;5;241m.\u001b[39mrequired_interactive_framework:\n\u001b[1;32m    443\u001b[0m         \u001b[38;5;28;01mif\u001b[39;00m \u001b[38;5;28mhasattr\u001b[39m(threading, \u001b[38;5;124m'\u001b[39m\u001b[38;5;124mget_native_id\u001b[39m\u001b[38;5;124m'\u001b[39m):\n\u001b[1;32m    444\u001b[0m             \u001b[38;5;66;03m# This compares native thread ids because even if Python-level\u001b[39;00m\n\u001b[1;32m    445\u001b[0m             \u001b[38;5;66;03m# Thread objects match, the underlying OS thread (which is what\u001b[39;00m\n\u001b[1;32m    446\u001b[0m             \u001b[38;5;66;03m# really matters) may be different on Python implementations with\u001b[39;00m\n\u001b[1;32m    447\u001b[0m             \u001b[38;5;66;03m# green threads.\u001b[39;00m\n",
      "File \u001b[0;32m~/miniforge3/envs/KKT_NN/lib/python3.12/site-packages/matplotlib/pyplot.py:280\u001b[0m, in \u001b[0;36m_get_backend_mod\u001b[0;34m()\u001b[0m\n\u001b[1;32m    271\u001b[0m \u001b[38;5;250m\u001b[39m\u001b[38;5;124;03m\"\"\"\u001b[39;00m\n\u001b[1;32m    272\u001b[0m \u001b[38;5;124;03mEnsure that a backend is selected and return it.\u001b[39;00m\n\u001b[1;32m    273\u001b[0m \n\u001b[1;32m    274\u001b[0m \u001b[38;5;124;03mThis is currently private, but may be made public in the future.\u001b[39;00m\n\u001b[1;32m    275\u001b[0m \u001b[38;5;124;03m\"\"\"\u001b[39;00m\n\u001b[1;32m    276\u001b[0m \u001b[38;5;28;01mif\u001b[39;00m _backend_mod \u001b[38;5;129;01mis\u001b[39;00m \u001b[38;5;28;01mNone\u001b[39;00m:\n\u001b[1;32m    277\u001b[0m     \u001b[38;5;66;03m# Use rcParams._get(\"backend\") to avoid going through the fallback\u001b[39;00m\n\u001b[1;32m    278\u001b[0m     \u001b[38;5;66;03m# logic (which will (re)import pyplot and then call switch_backend if\u001b[39;00m\n\u001b[1;32m    279\u001b[0m     \u001b[38;5;66;03m# we need to resolve the auto sentinel)\u001b[39;00m\n\u001b[0;32m--> 280\u001b[0m     \u001b[43mswitch_backend\u001b[49m\u001b[43m(\u001b[49m\u001b[43mrcParams\u001b[49m\u001b[38;5;241;43m.\u001b[39;49m\u001b[43m_get\u001b[49m\u001b[43m(\u001b[49m\u001b[38;5;124;43m\"\u001b[39;49m\u001b[38;5;124;43mbackend\u001b[39;49m\u001b[38;5;124;43m\"\u001b[39;49m\u001b[43m)\u001b[49m\u001b[43m)\u001b[49m  \u001b[38;5;66;03m# type: ignore[attr-defined]\u001b[39;00m\n\u001b[1;32m    281\u001b[0m \u001b[38;5;28;01mreturn\u001b[39;00m cast(\u001b[38;5;28mtype\u001b[39m[matplotlib\u001b[38;5;241m.\u001b[39mbackend_bases\u001b[38;5;241m.\u001b[39m_Backend], _backend_mod)\n",
      "File \u001b[0;32m~/miniforge3/envs/KKT_NN/lib/python3.12/site-packages/matplotlib/pyplot.py:342\u001b[0m, in \u001b[0;36mswitch_backend\u001b[0;34m(newbackend)\u001b[0m\n\u001b[1;32m    339\u001b[0m \u001b[38;5;66;03m# have to escape the switch on access logic\u001b[39;00m\n\u001b[1;32m    340\u001b[0m old_backend \u001b[38;5;241m=\u001b[39m \u001b[38;5;28mdict\u001b[39m\u001b[38;5;241m.\u001b[39m\u001b[38;5;21m__getitem__\u001b[39m(rcParams, \u001b[38;5;124m'\u001b[39m\u001b[38;5;124mbackend\u001b[39m\u001b[38;5;124m'\u001b[39m)\n\u001b[0;32m--> 342\u001b[0m module \u001b[38;5;241m=\u001b[39m \u001b[43mimportlib\u001b[49m\u001b[38;5;241;43m.\u001b[39;49m\u001b[43mimport_module\u001b[49m\u001b[43m(\u001b[49m\u001b[43mcbook\u001b[49m\u001b[38;5;241;43m.\u001b[39;49m\u001b[43m_backend_module_name\u001b[49m\u001b[43m(\u001b[49m\u001b[43mnewbackend\u001b[49m\u001b[43m)\u001b[49m\u001b[43m)\u001b[49m\n\u001b[1;32m    343\u001b[0m canvas_class \u001b[38;5;241m=\u001b[39m module\u001b[38;5;241m.\u001b[39mFigureCanvas\n\u001b[1;32m    345\u001b[0m required_framework \u001b[38;5;241m=\u001b[39m canvas_class\u001b[38;5;241m.\u001b[39mrequired_interactive_framework\n",
      "File \u001b[0;32m~/miniforge3/envs/KKT_NN/lib/python3.12/importlib/__init__.py:90\u001b[0m, in \u001b[0;36mimport_module\u001b[0;34m(name, package)\u001b[0m\n\u001b[1;32m     88\u001b[0m             \u001b[38;5;28;01mbreak\u001b[39;00m\n\u001b[1;32m     89\u001b[0m         level \u001b[38;5;241m+\u001b[39m\u001b[38;5;241m=\u001b[39m \u001b[38;5;241m1\u001b[39m\n\u001b[0;32m---> 90\u001b[0m \u001b[38;5;28;01mreturn\u001b[39;00m \u001b[43m_bootstrap\u001b[49m\u001b[38;5;241;43m.\u001b[39;49m\u001b[43m_gcd_import\u001b[49m\u001b[43m(\u001b[49m\u001b[43mname\u001b[49m\u001b[43m[\u001b[49m\u001b[43mlevel\u001b[49m\u001b[43m:\u001b[49m\u001b[43m]\u001b[49m\u001b[43m,\u001b[49m\u001b[43m \u001b[49m\u001b[43mpackage\u001b[49m\u001b[43m,\u001b[49m\u001b[43m \u001b[49m\u001b[43mlevel\u001b[49m\u001b[43m)\u001b[49m\n",
      "File \u001b[0;32m<frozen importlib._bootstrap>:1387\u001b[0m, in \u001b[0;36m_gcd_import\u001b[0;34m(name, package, level)\u001b[0m\n",
      "File \u001b[0;32m<frozen importlib._bootstrap>:1360\u001b[0m, in \u001b[0;36m_find_and_load\u001b[0;34m(name, import_)\u001b[0m\n",
      "File \u001b[0;32m<frozen importlib._bootstrap>:1310\u001b[0m, in \u001b[0;36m_find_and_load_unlocked\u001b[0;34m(name, import_)\u001b[0m\n",
      "File \u001b[0;32m<frozen importlib._bootstrap>:488\u001b[0m, in \u001b[0;36m_call_with_frames_removed\u001b[0;34m(f, *args, **kwds)\u001b[0m\n",
      "File \u001b[0;32m<frozen importlib._bootstrap>:1387\u001b[0m, in \u001b[0;36m_gcd_import\u001b[0;34m(name, package, level)\u001b[0m\n",
      "File \u001b[0;32m<frozen importlib._bootstrap>:1360\u001b[0m, in \u001b[0;36m_find_and_load\u001b[0;34m(name, import_)\u001b[0m\n",
      "File \u001b[0;32m<frozen importlib._bootstrap>:1324\u001b[0m, in \u001b[0;36m_find_and_load_unlocked\u001b[0;34m(name, import_)\u001b[0m\n",
      "\u001b[0;31mModuleNotFoundError\u001b[0m: No module named 'ipympl'"
     ]
    }
   ],
   "source": [
    "N=3\n",
    "\n",
    "gs_energy =[]\n",
    "for v_lambda in np.linspace(0,10,20):\n",
    "    H = -np.kron(sigma_x,sigma_x) + v_lambda*(np.kron(identity,sigma_z)+  np.kron(sigma_z,identity))\n",
    "\n",
    "    H = np.kron(H,np.eye(2)) + np.kron(np.eye(2**(N-2)),-np.kron(sigma_x,sigma_x)) + (\n",
    "        v_lambda*(np.kron(np.eye(2**(N-1)),sigma_z)))\n",
    "                                                                                                                                                  \n",
    "    H = H -np.kron(sigma_x, np.kron(np.eye(2**(N-2)),sigma_x))\n",
    "\n",
    "    \n",
    "    eig_H,_ =LA.eigh(H)\n",
    "    gs_energy.append(eig_H[0])  \n",
    "\n",
    "plt.figure()\n",
    "plt.plot(np.linspace(0,10,20),gs_energy,'.-')\n",
    "plt.xlabel('lambda',fontsize =16)\n",
    "plt.ylabel('$E_0$', fontsize=16)"
   ]
  },
  {
   "cell_type": "markdown",
   "id": "c1e9013d",
   "metadata": {},
   "source": [
    "### The cost of increasing the number of spins. \n",
    "We can now try to understand what is the cost of increasing the number of spins. From the computational point of view there are two kinds of cost. One is the cost of storing the state of the system in memory, typically called the *space* cost, the other is the cost entailed with performing the computation, typically called the *time* cost. \n",
    "\n",
    "Let us try and plot the *space* cost as a function of the number of constituents. \n"
   ]
  },
  {
   "cell_type": "code",
   "execution_count": 31,
   "id": "3ea4a574",
   "metadata": {},
   "outputs": [
    {
     "data": {
      "application/vnd.jupyter.widget-view+json": {
       "model_id": "a9596bfa4f894f4aa2ac912be5727c57",
       "version_major": 2,
       "version_minor": 0
      },
      "image/png": "[encoded data removed]",
      "text/html": [
       "\n",
       "            <div style=\"display: inline-block;\">\n",
       "                <div class=\"jupyter-widgets widget-label\" style=\"text-align: center;\">\n",
       "                    Figure\n",
       "                </div>\n",
       "                <img src='data:image/png;base64,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' width=640.0/>\n",
       "            </div>\n",
       "        "
      ],
      "text/plain": [
       "Canvas(toolbar=Toolbar(toolitems=[('Home', 'Reset original view', 'home', 'home'), ('Back', 'Back to previous …"
      ]
     },
     "metadata": {},
     "output_type": "display_data"
    }
   ],
   "source": [
    "space_cost=[]\n",
    "space_cost.append(np.size(phi_phi))\n",
    "phi_n_phi =np.kron(phi_phi,phi)\n",
    "space_cost.append(np.size(phi_n_phi))\n",
    "i_N =[4, 5, 6, 7, 8, 9, 10]\n",
    "for N in i_N:\n",
    "    phi_n_phi =np.kron(phi_n_phi,phi)\n",
    "    space_cost.append(np.size(phi_n_phi))\n",
    "\n",
    "plt.figure()\n",
    "plt.plot([2,3]+i_N,space_cost)\n",
    "plt.xlabel('N')\n",
    "plt.ylabel('Space cost')\n",
    "plt.show()"
   ]
  },
  {
   "cell_type": "markdown",
   "id": "f32589f9",
   "metadata": {},
   "source": [
    "We can also now compute the time it takes to compute the expectation value of a given observable\n"
   ]
  },
  {
   "cell_type": "code",
   "execution_count": 32,
   "id": "7401b87f",
   "metadata": {},
   "outputs": [
    {
     "data": {
      "application/vnd.jupyter.widget-view+json": {
       "model_id": "83a3c196f2ea4edc9f04fb46865d4f89",
       "version_major": 2,
       "version_minor": 0
      },
      "image/png": "[encoded data removed]",
      "text/html": [
       "\n",
       "            <div style=\"display: inline-block;\">\n",
       "                <div class=\"jupyter-widgets widget-label\" style=\"text-align: center;\">\n",
       "                    Figure\n",
       "                </div>\n",
       "                <img src='data:image/png;base64,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' width=640.0/>\n",
       "            </div>\n",
       "        "
      ],
      "text/plain": [
       "Canvas(toolbar=Toolbar(toolitems=[('Home', 'Reset original view', 'home', 'home'), ('Back', 'Back to previous …"
      ]
     },
     "metadata": {},
     "output_type": "display_data"
    }
   ],
   "source": [
    "import time\n",
    "times_to_execute=[]\n",
    "\n",
    "operator_tensor_identity = np.kron(operator,np.eye(2))\n",
    "t1=time.time()\n",
    "phi_phi.T.conj()@operator_tensor_identity@phi_phi\n",
    "t2=time.time()\n",
    "times_to_execute.append(t2-t1)\n",
    "operator_tensor_many_identities = np.kron(operator_tensor_identity,np.eye(2))\n",
    "phi_n_phi =np.kron(phi_phi,phi)\n",
    "t1=time.time()\n",
    "phi_n_phi.T.conj()@operator_tensor_many_identities@phi_n_phi\n",
    "t2=time.time()\n",
    "times_to_execute.append(t2-t1)\n",
    "i_N =[4, 5, 6, 7, 8, 9, 10, 11, 12, 13]\n",
    "for N in i_N:\n",
    "    phi_n_phi =np.kron(phi_n_phi,phi)\n",
    "    operator_tensor_many_identities = np.kron(operator_tensor_many_identities,np.eye(2))\n",
    "    t1=time.time()\n",
    "    phi_n_phi.T.conj()@operator_tensor_many_identities@phi_n_phi\n",
    "    t2=time.time()\n",
    "    times_to_execute.append(t2-t1)\n",
    "\n",
    "plt.figure()\n",
    "plt.plot([2,3]+i_N,times_to_execute)\n",
    "plt.xlabel('N')\n",
    "plt.ylabel('Time cost')\n",
    "plt.show()\n"
   ]
  },
  {
   "cell_type": "markdown",
   "id": "bfe65d91",
   "metadata": {},
   "source": [
    "\"curse of dimensionality\""
   ]
  },
  {
   "cell_type": "markdown",
   "id": "b8ff91ab",
   "metadata": {},
   "source": [
    "## Product states \n",
    "\n",
    "We have not used at all the fact that the states we are dealing with here are very special, namely they are product states.\n",
    "\n",
    " In order to see this we can compute the connected correlation functions, that is \n",
    "\n",
    "$\\langle O_i O_j \\rangle -\\langle O_i\\rangle \\langle O_j\\rangle$\n"
   ]
  },
  {
   "cell_type": "markdown",
   "id": "c4b98a0a",
   "metadata": {},
   "source": [
    "### E9: Compute the connected correlator $\\langle O_1 O_3 \\rangle -\\langle O_1\\rangle \\langle O_3\\rangle$ for a four-spin system "
   ]
  },
  {
   "cell_type": "code",
   "execution_count": 33,
   "id": "a3814667",
   "metadata": {},
   "outputs": [
    {
     "name": "stdout",
     "output_type": "stream",
     "text": [
      "[[-0.18126209-0.01857535j]\n",
      " [-0.36864417-0.23624593j]\n",
      " [-0.06157866+0.0030513j ]\n",
      " [-0.13538029-0.06017875j]\n",
      " [-0.20722638-0.07909628j]\n",
      " [-0.35875535-0.39418481j]\n",
      " [-0.07335657-0.01586492j]\n",
      " [-0.14014502-0.1135122j ]\n",
      " [-0.14199099-0.00249043j]\n",
      " [-0.30184415-0.15919497j]\n",
      " [-0.04762099+0.00642427j]\n",
      " [-0.10909861-0.03782065j]\n",
      " [-0.16613981-0.04778128j]\n",
      " [-0.30456396-0.28250123j]\n",
      " [-0.05801324-0.00749053j]\n",
      " [-0.11631063-0.0789256j ]] (16, 1) 16\n",
      "[[1.11262001-1.12379688e-16j]]\n",
      "[[1.18794546-4.34742653e-17j]]\n",
      "[[1.32173189+6.9388939e-18j]]\n",
      "[[1.32173189-1.81871278e-16j]]\n"
     ]
    },
    {
     "data": {
      "text/plain": [
       "array([[ True]])"
      ]
     },
     "execution_count": 33,
     "metadata": {},
     "output_type": "execute_result"
    }
   ],
   "source": [
    "def rwf(n):\n",
    "    phi = np.random.rand(n,1) + 1j*np.random.rand(n,1)\n",
    "    phi = phi/LA.norm(phi)\n",
    "    return phi\n",
    "\n",
    "p1 = rwf(2)\n",
    "p2 = rwf(2)\n",
    "p3 = rwf(2)\n",
    "p4 = rwf(2)\n",
    "\n",
    "pn2 = np.kron(p1, p2)\n",
    "pn3 = np.kron(pn2, p3)\n",
    "pn4 = np.kron(pn3, p4)\n",
    "\n",
    "print(pn4, np.shape(pn4), 2**4)\n",
    "\n",
    "op_O1 = np.kron(operator, np.eye(2))\n",
    "op_O1O = np.kron(op_O1, operator)\n",
    "op_O1O1 = np.kron(op_O1O, np.eye(2))\n",
    "\n",
    "evO1O1 = pn4.T.conj() @ op_O1O1 @ pn4\n",
    "\n",
    "evO_1 = p1.T.conj() @ operator @ p1 \n",
    "evO_3 = p3.T.conj() @ operator @ p3 \n",
    "\n",
    "print(evO_1)\n",
    "print(evO_3)\n",
    "\n",
    "print(evO1O1)\n",
    "print(evO_1 * evO_3)\n",
    "\n",
    "np.isclose(evO1O1, evO_1 * evO_3)"
   ]
  },
  {
   "cell_type": "markdown",
   "id": "475d60b7",
   "metadata": {},
   "source": [
    "so this always vanishes, as a consequence of the structure of the state. Feel free to check for other positions of the operators and bigger states\n",
    "\n",
    "As a result\n",
    "$⟨𝑂_i𝑂_j⟩=⟨𝑂_i⟩⟨𝑂_j⟩$ for product states, leading to a huge simplification. Indeed we can now compute any arbitrary correlation function or operator by just multiplying the values of local operators.\n",
    "\n",
    "So, rather than explicitly building our large tensor product state, we can just keep a list of individual product states, and use it to compute expectation values.\n",
    "\n"
   ]
  },
  {
   "cell_type": "markdown",
   "id": "6c2a8548",
   "metadata": {},
   "source": [
    "## The generic multi-spin state\n",
    "\n",
    "As you can probably expect, the previous property is not general to all multi-spin states. \n",
    "How can we build a more general state ? \n",
    "\n",
    " We can evolve any initial state under the action of a random Hamiltonian for unit time. The only request is that the Hamiltonian is Hermitian, so rather than following the ideas of the previous section we just build a random $2^N \\times 2^N$ Hamiltonian, that is extensive and build the corresponding state."
   ]
  },
  {
   "cell_type": "code",
   "execution_count": 34,
   "id": "e7255221",
   "metadata": {},
   "outputs": [
    {
     "data": {
      "text/plain": [
       "(256, 1)"
      ]
     },
     "execution_count": 34,
     "metadata": {},
     "output_type": "execute_result"
    }
   ],
   "source": [
    "def build_nprod_wf(n):\n",
    "    phi_n = np.random.rand(2,1) + 1j* np.random.rand(2,1) \n",
    "    for ii in range(1,n):\n",
    "        phi_j = np.random.rand(2,1) + 1j* np.random.rand(2,1) \n",
    "        phi_n = np.kron(phi_n, phi_j)\n",
    "\n",
    "    return phi_n/LA.norm(phi_n)\n",
    "\n",
    "phi_8 = build_nprod_wf(8)\n",
    "np.shape(phi_8)"
   ]
  },
  {
   "cell_type": "code",
   "execution_count": 35,
   "id": "58e45287",
   "metadata": {},
   "outputs": [
    {
     "name": "stdout",
     "output_type": "stream",
     "text": [
      "0.9999999999999998\n",
      "0.9999999999999996\n"
     ]
    }
   ],
   "source": [
    "N = 8\n",
    "dim_h = 2**N\n",
    "random_h = np.array(np.random.rand(dim_h,dim_h)+1j*np.random.rand(dim_h,dim_h))\n",
    "random_h = random_h+random_h.T.conj()\n",
    "random_h = random_h/LA.norm(random_h)\n",
    "\n",
    "random_unitary =LA.expm(-1j*random_h)\n",
    "\n",
    "init_state = build_nprod_wf(8)\n",
    "random_state=random_unitary@init_state\n",
    "\n",
    "print(LA.norm(init_state))\n",
    "print(LA.norm(random_state))"
   ]
  },
  {
   "cell_type": "markdown",
   "id": "36a46a00",
   "metadata": {},
   "source": [
    "Is there any way to distinguish between product states and more general many-body states such as this one?\n"
   ]
  },
  {
   "cell_type": "markdown",
   "id": "37421d7f",
   "metadata": {},
   "source": [
    "# Computing entanglement\n",
    "\n",
    "\n",
    "Let us now see how to compute entanglement between various bipartitions.\n",
    "Along the way we will also learn how to group and split indices. \n"
   ]
  },
  {
   "cell_type": "markdown",
   "id": "be8d8b94",
   "metadata": {},
   "source": [
    "\n",
    "### Two qubits \n",
    "We first start with a state of two qubits. \n",
    "$|\\psi \\rangle = \\sum_{ij}c_{ij} |ij\\rangle$. \n",
    "\n",
    "Start constructing it as a four dimensional normalized vector, ie. a genuinely random two-qubit state\n",
    "\n",
    "Then you can reshape it to a tensor with two indices\n"
   ]
  },
  {
   "cell_type": "code",
   "execution_count": 36,
   "id": "5f05f28c",
   "metadata": {},
   "outputs": [
    {
     "name": "stdout",
     "output_type": "stream",
     "text": [
      "[[0.52947816+0.15303689j 0.23106769+0.16279731j]\n",
      " [0.21635411+0.58858838j 0.39403465+0.26043936j]]\n"
     ]
    }
   ],
   "source": [
    "psi =np.random.rand(4,1)+1j*np.random.rand(4,1)\n",
    "psi = psi/LA.norm(psi)\n",
    "\n",
    "psi=np.reshape(psi,[2,2])\n",
    "print(psi)"
   ]
  },
  {
   "cell_type": "markdown",
   "id": "d4735b63",
   "metadata": {},
   "source": [
    "\n",
    "Now you can construct the reduced density matrix of the first spin and of the second:\n",
    "\n",
    "$\\rho_1 = \\textrm{tr}_2 (|\\psi\\rangle\\langle \\psi|)$\n",
    "\n",
    "$\\rho_2 = \\textrm{tr}_1 (|\\psi\\rangle\\langle \\psi|)$\n",
    "\n"
   ]
  },
  {
   "cell_type": "code",
   "execution_count": 37,
   "id": "4bf1bf6f",
   "metadata": {},
   "outputs": [
    {
     "name": "stdout",
     "output_type": "stream",
     "text": [
      "[[0.38366265+2.03987937e-18j 0.33807802-2.74565875e-01j]\n",
      " [0.33807802+2.74565875e-01j 0.61633735+9.83032485e-18j]]\n",
      "[[0.69701279+9.98476538e-18j 0.38580189+1.24741354e-01j]\n",
      " [0.38580189-1.24741354e-01j 0.30298721-4.04746296e-18j]]\n"
     ]
    }
   ],
   "source": [
    "rho_1 = psi@psi.T.conjugate()\n",
    "print(rho_1)\n",
    "rho_2 = psi.T@psi.conjugate()\n",
    "print(rho_2)"
   ]
  },
  {
   "cell_type": "markdown",
   "id": "5f95034e",
   "metadata": {},
   "source": [
    "Notice that the two reduced density matrices are different but both have trace 1 and are Hermitian\n"
   ]
  },
  {
   "cell_type": "code",
   "execution_count": 38,
   "id": "b5ed373f",
   "metadata": {},
   "outputs": [
    {
     "name": "stdout",
     "output_type": "stream",
     "text": [
      "(1+1.187020421738914e-17j)\n",
      "(0.9999999999999999+5.93730242089561e-18j)\n",
      "True\n",
      "True\n"
     ]
    }
   ],
   "source": [
    "print(np.trace(rho_1))\n",
    "print(np.trace(rho_2))\n",
    "\n",
    "print(ishermitian(rho_1))\n",
    "print(ishermitian(rho_2))\n"
   ]
  },
  {
   "cell_type": "markdown",
   "id": "60e2ae9a",
   "metadata": {},
   "source": [
    "\n",
    "Also their eigenvalues? "
   ]
  },
  {
   "cell_type": "code",
   "execution_count": 39,
   "id": "c90433f8",
   "metadata": {},
   "outputs": [
    {
     "name": "stdout",
     "output_type": "stream",
     "text": [
      "[0.04920343 0.95079657]\n",
      "[0.04920343 0.95079657]\n"
     ]
    }
   ],
   "source": [
    "eig_rho_1, U_rho_1 = LA.eigh(rho_1)\n",
    "print(eig_rho_1)\n",
    "eig_rho_2, U_rho_2 = LA.eigh(rho_2)\n",
    "print(eig_rho_2)"
   ]
  },
  {
   "cell_type": "markdown",
   "id": "47b4440c",
   "metadata": {},
   "source": [
    "They are the same! So the two matrices are different but have the same spectrum. Since the spectrum is positive, we can interpret it as a probability distribution and compute its entropies. The Von Neumann entropy is called *entanglement entropy*\n",
    "\n",
    "$S = -tr (\\rho \\, log \\rho)$\n",
    "\n",
    "There are also Tsallis entropies defined as \n",
    "\n",
    "$E_{n} = \\textrm{tr} \\rho ^n$ \n",
    "\n",
    "and Renyi entropies\n",
    "\n",
    "$S_{n} = \\frac{log{E_n}}{1-n}$\n",
    "\n",
    "Let's compute the VN entanglement entropy here. You have to pay attention to the fact that if you have a zero eigenvalue, it contributes zero to the EE."
   ]
  },
  {
   "cell_type": "code",
   "execution_count": 40,
   "id": "2eb0102d",
   "metadata": {},
   "outputs": [],
   "source": [
    "def compute_vn(eig_rho):\n",
    "    cut_off =1.e-12\n",
    "    mask_sl=np.greater_equal(np.abs(eig_rho),cut_off)\n",
    "    eig_rho = eig_rho[mask_sl]\n",
    "    vn_ent =sum(-eig_rho*np.log(eig_rho))\n",
    "   \n",
    "    return vn_ent\n"
   ]
  },
  {
   "cell_type": "code",
   "execution_count": 41,
   "id": "e9bb665e",
   "metadata": {},
   "outputs": [
    {
     "name": "stdout",
     "output_type": "stream",
     "text": [
      "0.19616309312054137\n"
     ]
    }
   ],
   "source": [
    "vn_ent_1 =compute_vn(eig_rho_1)\n",
    "print(vn_ent_1)\n"
   ]
  },
  {
   "cell_type": "markdown",
   "id": "37de46ef",
   "metadata": {},
   "source": [
    "### SVD and entanglement\n",
    "Rather than diagonalizing the reduced density matrix of the bipartition we can compute the singular value decomposition of the state (mathematically this is exactly the definition of the singular value decomposition, $svd(M) =\\sqrt{( eig (MM^{\\dagger}))}$"
   ]
  },
  {
   "cell_type": "code",
   "execution_count": 47,
   "id": "34a4d7e4",
   "metadata": {},
   "outputs": [
    {
     "name": "stdout",
     "output_type": "stream",
     "text": [
      "[0.95079657 0.04920343]\n",
      "[0.04920343 0.95079657]\n"
     ]
    }
   ],
   "source": [
    "_,spect_rho,_= LA.svd(psi)\n",
    "\n",
    "print(spect_rho**2)\n",
    "print(eig_rho_1)\n"
   ]
  },
  {
   "cell_type": "markdown",
   "id": "8aa1ac3f",
   "metadata": {},
   "source": [
    "So we we will use this fact since this allows to avoid constructing explicilty the reduced density matrices. "
   ]
  },
  {
   "cell_type": "markdown",
   "id": "34a68853",
   "metadata": {},
   "source": [
    "### E10: Compute the EE for a product two-qubit state\n",
    "\n",
    "Now try to compute the spectrum of the RDM and the EE for a two-qubit *product* state such as those we have seen above"
   ]
  },
  {
   "cell_type": "code",
   "execution_count": 50,
   "id": "052ab54c",
   "metadata": {},
   "outputs": [
    {
     "name": "stdout",
     "output_type": "stream",
     "text": [
      "True\n",
      "eig_rho_x=array([2.34380886e-17, 1.00000000e+00])\n",
      "compute_vn(eig_rho_x)=np.float64(0.0)\n"
     ]
    }
   ],
   "source": [
    "phi2 = build_nprod_wf(2)\n",
    "\n",
    "phi2=np.reshape(phi2,[2,2])\n",
    "\n",
    "rho_x = phi2@phi2.T.conjugate()\n",
    "\n",
    "print(ishermitian(rho_x))\n",
    "\n",
    "eig_rho_x, U_rho_x =LA.eigh(rho_x)\n",
    "print(f\"{eig_rho_x=}\")\n",
    "\n",
    "print(f\"{compute_vn(eig_rho_x)=}\")"
   ]
  },
  {
   "cell_type": "markdown",
   "id": "88904db4",
   "metadata": {},
   "source": [
    "We see that the probability distribution have zero entropy, meaning it is completely ordered. Indeed the state was a product state and the reduced density matrices are just the projector on the original state\n",
    "\n",
    "$\\rho_1 = |\\psi_1\\rangle \\langle \\psi_1|$\n",
    "\n",
    "$\\rho_2 = |\\psi_2\\rangle \\langle \\psi_2|$\n"
   ]
  },
  {
   "cell_type": "markdown",
   "id": "25590d20",
   "metadata": {},
   "source": [
    "### E11: Do the same with the Bell state $ |\\psi_b\\rangle = |00\\rangle + |11\\rangle $"
   ]
  },
  {
   "cell_type": "code",
   "execution_count": 53,
   "id": "f2d3bd82",
   "metadata": {},
   "outputs": [
    {
     "name": "stdout",
     "output_type": "stream",
     "text": [
      "0.9999999999999999\n",
      "rho1_bell=array([[0.5, 0. ],\n",
      "       [0. , 0.5]])\n",
      "spectrum_bell=array([0.5, 0.5])\n",
      "spectrum_bell_svd=array([0.5, 0.5])\n",
      "compute_vn(spectrum_bell)=np.float64(0.6931471805599454)\n",
      "compute_vn(spectrum_bell_svd)=np.float64(0.6931471805599454)\n",
      "np.log(2)=np.float64(0.6931471805599453)\n"
     ]
    }
   ],
   "source": [
    "# Bell pair \n",
    "\n",
    "up = np.array([[1],[0]])\n",
    "do = np.array([[0],[1]])\n",
    "\n",
    "upup = np.kron(up,up)\n",
    "dodo = np.kron(do,do)\n",
    "\n",
    "bell1 = (upup+dodo)/np.sqrt(2)\n",
    "\n",
    "print(LA.norm(bell1))\n",
    "\n",
    "bell1m = np.reshape(bell1,(2,2))\n",
    "\n",
    "rho1_bell =  bell1m@bell1m.T.conjugate()\n",
    "\n",
    "print(f\"{rho1_bell=}\")\n",
    "\n",
    "\n",
    "spectrum_bell, _ = LA.eigh(rho1_bell)\n",
    "\n",
    "print(f\"{spectrum_bell=}\")\n",
    "\n",
    "ub, sb, vb = LA.svd(bell1m) \n",
    "\n",
    "spectrum_bell_svd = sb**2\n",
    "\n",
    "print(f\"{spectrum_bell_svd=}\")\n",
    "\n",
    "print(f\"{compute_vn(spectrum_bell)=}\")\n",
    "print(f\"{compute_vn(spectrum_bell_svd)=}\")\n",
    "print(f\"{np.log(2)=}\")"
   ]
  },
  {
   "cell_type": "markdown",
   "id": "ae80f1a0",
   "metadata": {},
   "source": [
    "Now we show how to compute the spectrum of the three two bodies reduced density matrices contained in a three spin state. "
   ]
  },
  {
   "cell_type": "code",
   "execution_count": 45,
   "id": "edb99dab",
   "metadata": {},
   "outputs": [
    {
     "name": "stdout",
     "output_type": "stream",
     "text": [
      "Entanglement for 12\n",
      "0.32067093531329677\n",
      "Entanglement for 23\n",
      "0.5237381495864737\n"
     ]
    }
   ],
   "source": [
    "\n",
    "psi_8 =np.array(np.random.rand(8) +1j*np.random.rand(8))\n",
    "psi_8=np.reshape(psi_8,[8,1])\n",
    "psi_8=psi_8/LA.norm(psi_8)\n",
    "\n",
    "psi_8_t =np.reshape(psi_8,[2,2,2])\n",
    "psi_12_3 = np.reshape(psi_8_t,[4,2])\n",
    "psi_1_23 = np.reshape(psi_8_t,[2,4])\n",
    "psi_13_2 =np.reshape(np.transpose(psi_8_t,[0,2,1]),[4,2])\n",
    "\n",
    "\n",
    "_,svd_12,_ =LA.svd(psi_12_3)\n",
    "_,svd_23,_ =LA.svd(psi_1_23)\n",
    "_,svd_13,_ =LA.svd(psi_13_2)\n",
    "\n",
    "\n",
    "vn_ent_12 =compute_vn(svd_12**2)\n",
    "\n",
    "print('Entanglement for 12')\n",
    "print(vn_ent_12)\n",
    "\n",
    "\n",
    "print('Entanglement for 23')\n",
    "\n",
    "vn_ent_23 =compute_vn(svd_23**2)\n",
    "print(vn_ent_23)\n",
    "\n",
    "\n"
   ]
  },
  {
   "cell_type": "markdown",
   "id": "ef2e4362",
   "metadata": {},
   "source": [
    "## How does entanglement scale for a generic state ? "
   ]
  },
  {
   "cell_type": "code",
   "execution_count": 46,
   "id": "c1121d97",
   "metadata": {},
   "outputs": [
    {
     "name": "stdout",
     "output_type": "stream",
     "text": [
      "2\n",
      "4\n",
      "6\n",
      "8\n"
     ]
    },
    {
     "data": {
      "application/vnd.jupyter.widget-view+json": {
       "model_id": "590c7189d2c84fdca6739dc5207e3393",
       "version_major": 2,
       "version_minor": 0
      },
      "image/png": "[encoded data removed]",
      "text/html": [
       "\n",
       "            <div style=\"display: inline-block;\">\n",
       "                <div class=\"jupyter-widgets widget-label\" style=\"text-align: center;\">\n",
       "                    Figure\n",
       "                </div>\n",
       "                <img src='data:image/png;base64,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' width=640.0/>\n",
       "            </div>\n",
       "        "
      ],
      "text/plain": [
       "Canvas(toolbar=Toolbar(toolitems=[('Home', 'Reset original view', 'home', 'home'), ('Back', 'Back to previous …"
      ]
     },
     "metadata": {},
     "output_type": "display_data"
    }
   ],
   "source": [
    "mean_ent=[]\n",
    "std_ent=[]\n",
    "for N in range(2,10,2):\n",
    "    print(N)\n",
    "    dim_h =2**N\n",
    "    ent_entropies=[]\n",
    "    #print(dim_h)\n",
    "    for _ in range(0,100):\n",
    "        init_state = np.zeros([dim_h,1])\n",
    "        init_state[0]=1.\n",
    "        random_h = np.array(np.random.rand(dim_h,dim_h)+1j*np.random.rand(dim_h,dim_h))\n",
    "        random_h = random_h+random_h.T.conj()\n",
    "        random_h = random_h/LA.norm(random_h)\n",
    "\n",
    "        random_unitary =LA.expm(-N**4*1j*random_h)\n",
    "        random_state=random_unitary@init_state\n",
    "        #print(LA.norm(random_state))\n",
    "        sqrt_reduced_density_matrix = np.reshape(random_state,[int(2**(N/2)),int(2**(N/2))])\n",
    "        _, ent_spectrum,_= LA.svd(sqrt_reduced_density_matrix)\n",
    "        #print(np.sum(ent_spectrum**2))\n",
    "        ent_entropy = -np.dot(np.log(ent_spectrum**2),ent_spectrum**2)/np.log(2)\n",
    "        ent_entropies.append(ent_entropy)\n",
    "    \n",
    "    mean_ent.append(np.mean(ent_entropies))  \n",
    "    std_ent.append(np.std(ent_entropies))\n",
    "    #plt.plot(ent_entropies)\n",
    "\n",
    "\n",
    "plt.figure()\n",
    "\n",
    "plt.errorbar( range(2,10,2), mean_ent,std_ent,marker='o', mfc='red',\n",
    "         mec='green', ms=3, mew=1)\n",
    "plt.xlabel('N')\n",
    "plt.ylabel('S')\n",
    "    #plt.ylabel('Entanglement bi-partition')\n",
    "    #plt.xlabel('Realization')\n",
    "    #plt.ylabel('Entanglement bi-partition')\n",
    "\n",
    "plt.show()"
   ]
  }
 ],
 "metadata": {
  "kernelspec": {
   "display_name": "py312",
   "language": "python",
   "name": "python3"
  },
  "language_info": {
   "codemirror_mode": {
    "name": "ipython",
    "version": 3
   },
   "file_extension": ".py",
   "mimetype": "text/x-python",
   "name": "python",
   "nbconvert_exporter": "python",
   "pygments_lexer": "ipython3",
   "version": "3.12.4"
  }
 },
 "nbformat": 4,
 "nbformat_minor": 5
}
