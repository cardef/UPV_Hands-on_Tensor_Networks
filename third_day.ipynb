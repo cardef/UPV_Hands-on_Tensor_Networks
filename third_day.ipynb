{
 "cells": [
  {
   "cell_type": "code",
   "execution_count": 140,
   "metadata": {},
   "outputs": [],
   "source": [
    "import numpy as np "
   ]
  },
  {
   "cell_type": "markdown",
   "metadata": {},
   "source": [
    "### E1: Generate a random MPS for a system of 24 qubits with bond dimension 10"
   ]
  },
  {
   "cell_type": "code",
   "execution_count": 141,
   "metadata": {},
   "outputs": [],
   "source": [
    "# My ordering of legs is virtual left,physical,virtual right\n",
    "\n",
    "def random_mps(L,chi):\n",
    "    mps_list = []\n",
    "    mps_list.append(np.random.rand(2,chi)+1j*np.random.rand(2,chi))\n",
    "\n",
    "    for jj in range(1,L-1):\n",
    "        mps_list.append(np.random.rand(chi,2,chi)+1j*np.random.rand(chi,2,chi))\n",
    "    \n",
    "    mps_list.append(np.random.rand(chi,2)+1j*np.random.rand(chi,2))\n",
    "\n",
    "\n",
    "    # Some first attempt at normalization \n",
    "    for ii in range(len(mps_list)):\n",
    "        mps_list[ii] = mps_list[ii]/np.linalg.norm(mps_list[ii])\n",
    "        \n",
    "    return mps_list\n"
   ]
  },
  {
   "cell_type": "code",
   "execution_count": 142,
   "metadata": {},
   "outputs": [],
   "source": [
    "psi_mps = random_mps(24,10)"
   ]
  },
  {
   "cell_type": "code",
   "execution_count": 143,
   "metadata": {},
   "outputs": [],
   "source": [
    "def info_mps(psi):\n",
    "    print(len(psi))\n",
    "    for tensor in psi:\n",
    "        print(np.shape(tensor))\n"
   ]
  },
  {
   "cell_type": "code",
   "execution_count": 144,
   "metadata": {},
   "outputs": [
    {
     "name": "stdout",
     "output_type": "stream",
     "text": [
      "24\n",
      "(2, 10)\n",
      "(10, 2, 10)\n",
      "(10, 2, 10)\n",
      "(10, 2, 10)\n",
      "(10, 2, 10)\n",
      "(10, 2, 10)\n",
      "(10, 2, 10)\n",
      "(10, 2, 10)\n",
      "(10, 2, 10)\n",
      "(10, 2, 10)\n",
      "(10, 2, 10)\n",
      "(10, 2, 10)\n",
      "(10, 2, 10)\n",
      "(10, 2, 10)\n",
      "(10, 2, 10)\n",
      "(10, 2, 10)\n",
      "(10, 2, 10)\n",
      "(10, 2, 10)\n",
      "(10, 2, 10)\n",
      "(10, 2, 10)\n",
      "(10, 2, 10)\n",
      "(10, 2, 10)\n",
      "(10, 2, 10)\n",
      "(10, 2)\n"
     ]
    }
   ],
   "source": [
    "info_mps(psi_mps)"
   ]
  },
  {
   "cell_type": "code",
   "execution_count": 145,
   "metadata": {},
   "outputs": [],
   "source": [
    "\n",
    "def fullpsi_from_mps(mps_list):\n",
    "\n",
    "    # First tensor\n",
    "    w_rec = mps_list[0]\n",
    "\n",
    "    for jj in range(1,len(mps_list)-1):\n",
    "        #print(f\"{jj} - {np.shape(w_rec)} * {np.shape(mps_list[jj])}\")\n",
    "        w_rec = np.einsum(\"ia,ajb->ijb\", w_rec, mps_list[jj])\n",
    "        w_rec = np.reshape(w_rec, (np.shape(w_rec)[0] * np.shape(w_rec)[1], np.shape(w_rec)[2]))\n",
    "\n",
    "    # Final tensor \n",
    "    w_rec = np.einsum(\"ia,aj->ij\", w_rec, mps_list[-1])\n",
    "    w_rec = np.reshape(w_rec, (np.shape(w_rec)[0] * np.shape(w_rec)[1]))\n",
    "\n",
    "    return w_rec"
   ]
  },
  {
   "cell_type": "code",
   "execution_count": 146,
   "metadata": {},
   "outputs": [
    {
     "name": "stdout",
     "output_type": "stream",
     "text": [
      "np.shape(psi_reconstructed)=(16777216,)\n",
      "np.linalg.norm(psi_reconstructed)=np.float64(0.038118115131812035)\n",
      "np.sqrt(psi_reconstructed.conj().T @ psi_reconstructed)=np.complex128(0.038118115131810855+0j)\n"
     ]
    }
   ],
   "source": [
    "psi_reconstructed = fullpsi_from_mps(psi_mps)\n",
    "print(f\"{np.shape(psi_reconstructed)=}\")\n",
    "\n",
    "print(f\"{np.linalg.norm(psi_reconstructed)=}\")\n",
    "print(f\"{np.sqrt(psi_reconstructed.conj().T @ psi_reconstructed)=}\")"
   ]
  },
  {
   "cell_type": "markdown",
   "metadata": {},
   "source": [
    "### E2: Write a function that computes the overlap between two MPS in an efficient way"
   ]
  },
  {
   "cell_type": "code",
   "execution_count": 147,
   "metadata": {},
   "outputs": [],
   "source": [
    "def overlap_mps(psi1, psi2):\n",
    "\n",
    "    assert len(psi1) == len(psi2)\n",
    "\n",
    "    overlap = np.einsum(\"pr,ps->rs\", psi1[0], psi2[0].conj())\n",
    "\n",
    "    for ii in range(1,len(psi1)-1):\n",
    "        #print(f\"{ii=}, {np.shape(overlap)=}, {np.shape(psi1[ii])=}\")\n",
    "        overlap = np.einsum(\"rs,rpt->spt\", overlap, psi1[ii])\n",
    "        overlap = np.einsum(\"spt,spq->tq\", overlap, psi2[ii].conj())\n",
    "\n",
    "    overlap = np.einsum(\"tq,tp->qp\", overlap, psi1[-1])\n",
    "    overlap = np.einsum(\"qp,qp->\", overlap, psi2[-1].conj())\n",
    "\n",
    "    return overlap, np.sqrt(overlap) \n",
    "\n"
   ]
  },
  {
   "cell_type": "code",
   "execution_count": 148,
   "metadata": {},
   "outputs": [
    {
     "data": {
      "text/plain": [
       "(np.complex128(0.0014529907012020083-4.404571325722362e-20j),\n",
       " np.complex128(0.038118115131811126-5.777530329728406e-19j))"
      ]
     },
     "execution_count": 148,
     "metadata": {},
     "output_type": "execute_result"
    }
   ],
   "source": [
    "overlap_mps(psi_mps, psi_mps)"
   ]
  },
  {
   "cell_type": "markdown",
   "metadata": {},
   "source": [
    "### E3: Write a function that brings an MPS to left canonical form using QR "
   ]
  },
  {
   "cell_type": "code",
   "execution_count": 149,
   "metadata": {},
   "outputs": [],
   "source": [
    "def orthogonalize_mps_left(psi_mps):\n",
    "    q,r = np.linalg.qr(psi_mps[0])\n",
    "    psi_mps[0] = q\n",
    "\n",
    "    for ii in range(1,len(psi_mps)-1):\n",
    " \n",
    "        r_m = np.einsum(\"ij,jkl->ikl\", r, psi_mps[ii])\n",
    "        print(f\"{ii=}, {np.shape(r_m)=}\")\n",
    "        q, r = np.linalg.qr(np.reshape(r_m, (r_m.shape[0]*r_m.shape[1],r_m.shape[2])))\n",
    "        psi_mps[ii] = np.reshape(q, (r_m.shape[0],r_m.shape[1], r.shape[0] ))\n",
    "\n",
    "    psi_mps[-1] = np.einsum(\"ij,jp->ip\", r, psi_mps[-1])\n"
   ]
  },
  {
   "cell_type": "code",
   "execution_count": 150,
   "metadata": {},
   "outputs": [
    {
     "name": "stdout",
     "output_type": "stream",
     "text": [
      "ii=1, np.shape(r_m)=(2, 2, 10)\n",
      "ii=2, np.shape(r_m)=(4, 2, 10)\n",
      "ii=3, np.shape(r_m)=(8, 2, 10)\n",
      "ii=4, np.shape(r_m)=(10, 2, 10)\n",
      "ii=5, np.shape(r_m)=(10, 2, 10)\n",
      "ii=6, np.shape(r_m)=(10, 2, 10)\n",
      "ii=7, np.shape(r_m)=(10, 2, 10)\n",
      "ii=8, np.shape(r_m)=(10, 2, 10)\n",
      "ii=9, np.shape(r_m)=(10, 2, 10)\n",
      "ii=10, np.shape(r_m)=(10, 2, 10)\n"
     ]
    }
   ],
   "source": [
    "psi1 = random_mps(12, 10)\n",
    "orthogonalize_mps_left(psi1)"
   ]
  },
  {
   "cell_type": "code",
   "execution_count": 151,
   "metadata": {},
   "outputs": [
    {
     "name": "stdout",
     "output_type": "stream",
     "text": [
      "12\n",
      "(2, 2)\n",
      "(2, 2, 4)\n",
      "(4, 2, 8)\n",
      "(8, 2, 10)\n",
      "(10, 2, 10)\n",
      "(10, 2, 10)\n",
      "(10, 2, 10)\n",
      "(10, 2, 10)\n",
      "(10, 2, 10)\n",
      "(10, 2, 10)\n",
      "(10, 2, 10)\n",
      "(10, 2)\n"
     ]
    }
   ],
   "source": [
    "info_mps(psi1)"
   ]
  },
  {
   "cell_type": "markdown",
   "metadata": {},
   "source": [
    "### E4: Write a function that checks if an MPS is in left canonical form"
   ]
  },
  {
   "cell_type": "code",
   "execution_count": 152,
   "metadata": {},
   "outputs": [],
   "source": [
    "def is_left_can(psi):\n",
    "    is_can = []\n",
    "    left_env = np.einsum(\"pv,pw->vw\", psi1[0],psi1[0].conj())\n",
    "    is_can.append(np.allclose(left_env, np.eye(left_env.shape[1])))\n",
    "    for ii in range(1,len(psi)-1):\n",
    "        left_env = np.einsum(\"lpr,lpk->rk\", psi1[1],psi1[1].conj())\n",
    "        is_can.append(np.allclose(left_env, np.eye(left_env.shape[1])))\n",
    "\n",
    "    return np.all(is_can)\n"
   ]
  },
  {
   "cell_type": "code",
   "execution_count": 153,
   "metadata": {},
   "outputs": [
    {
     "name": "stdout",
     "output_type": "stream",
     "text": [
      "True\n",
      "(np.complex128(0.035128016018764405-3.597002519694708e-18j), np.complex128(0.1874246942608268-9.59586071056622e-18j))\n",
      "(0.03512801601876436-1.7680578197295232e-19j)\n"
     ]
    }
   ],
   "source": [
    "print(is_left_can(psi1))\n",
    "print(overlap_mps(psi1,psi1))\n",
    "print(np.einsum(\"vp,vp->\", psi1[-1],psi1[-1].conj()))"
   ]
  },
  {
   "cell_type": "code",
   "execution_count": 123,
   "metadata": {},
   "outputs": [],
   "source": []
  },
  {
   "cell_type": "code",
   "execution_count": null,
   "metadata": {},
   "outputs": [],
   "source": []
  }
 ],
 "metadata": {
  "kernelspec": {
   "display_name": "py312",
   "language": "python",
   "name": "python3"
  },
  "language_info": {
   "codemirror_mode": {
    "name": "ipython",
    "version": 3
   },
   "file_extension": ".py",
   "mimetype": "text/x-python",
   "name": "python",
   "nbconvert_exporter": "python",
   "pygments_lexer": "ipython3",
   "version": "3.12.4"
  }
 },
 "nbformat": 4,
 "nbformat_minor": 2
}
